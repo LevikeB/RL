{
 "cells": [
  {
   "cell_type": "markdown",
   "metadata": {
    "id": "saNr5dYulXjj"
   },
   "source": [
    "# P1: Solve the OpenAI Gym [Taxi V3](https://gym.openai.com/envs/Taxi-v3/) Environment\n",
    "---"
   ]
  },
  {
   "cell_type": "markdown",
   "metadata": {
    "id": "kBEUb2ojlXjs"
   },
   "source": [
    "## Introduction\n",
    "[OpenAI Gym](https://gym.openai.com/docs/) is a framework that provides RL environments of varying complexity with the same standard API making it easy to develop and benchmark RL algorithms. The [Taxi-V3](https://gym.openai.com/envs/Taxi-v3/) environmnet present a simple, text environment where actions and state (observations) are both discrete. "
   ]
  },
  {
   "cell_type": "code",
   "execution_count": 1,
   "metadata": {
    "executionInfo": {
     "elapsed": 1815,
     "status": "ok",
     "timestamp": 1620376081924,
     "user": {
      "displayName": "LevikeB",
      "photoUrl": "",
      "userId": "02205040832277558440"
     },
     "user_tz": -60
    },
    "id": "kgoDXXutlXjs"
   },
   "outputs": [],
   "source": [
    "import gym"
   ]
  },
  {
   "cell_type": "markdown",
   "metadata": {
    "id": "2DOqlIPalXjt"
   },
   "source": [
    "The `gym.make()` API can be used to spawn any of the available environments by passing its full name."
   ]
  },
  {
   "cell_type": "code",
   "execution_count": 2,
   "metadata": {
    "executionInfo": {
     "elapsed": 2129,
     "status": "ok",
     "timestamp": 1620376082244,
     "user": {
      "displayName": "LevikeB",
      "photoUrl": "",
      "userId": "02205040832277558440"
     },
     "user_tz": -60
    },
    "id": "CFPbn1j_lXju"
   },
   "outputs": [],
   "source": [
    "taxi = gym.make('Taxi-v3')"
   ]
  },
  {
   "cell_type": "markdown",
   "metadata": {
    "id": "meB64pSelXju"
   },
   "source": [
    "The Taxi environment has 500 states and 6 possible actions."
   ]
  },
  {
   "cell_type": "code",
   "execution_count": 3,
   "metadata": {
    "colab": {
     "base_uri": "https://localhost:8080/"
    },
    "executionInfo": {
     "elapsed": 2122,
     "status": "ok",
     "timestamp": 1620376082244,
     "user": {
      "displayName": "LevikeB",
      "photoUrl": "",
      "userId": "02205040832277558440"
     },
     "user_tz": -60
    },
    "id": "ZLNmSLW7lXju",
    "outputId": "00e79fe1-6119-43c1-9f13-f82d51688e00"
   },
   "outputs": [
    {
     "data": {
      "text/plain": [
       "Discrete(6)"
      ]
     },
     "execution_count": 3,
     "metadata": {
      "tags": []
     },
     "output_type": "execute_result"
    }
   ],
   "source": [
    "taxi.action_space"
   ]
  },
  {
   "cell_type": "code",
   "execution_count": 4,
   "metadata": {
    "colab": {
     "base_uri": "https://localhost:8080/"
    },
    "executionInfo": {
     "elapsed": 1046,
     "status": "ok",
     "timestamp": 1620376082245,
     "user": {
      "displayName": "LevikeB",
      "photoUrl": "",
      "userId": "02205040832277558440"
     },
     "user_tz": -60
    },
    "id": "LXbCa92VlXjv",
    "outputId": "a5e2d114-0fb2-498e-ed2a-d50e531d4be8"
   },
   "outputs": [
    {
     "data": {
      "text/plain": [
       "Discrete(500)"
      ]
     },
     "execution_count": 4,
     "metadata": {
      "tags": []
     },
     "output_type": "execute_result"
    }
   ],
   "source": [
    "taxi.observation_space"
   ]
  },
  {
   "cell_type": "markdown",
   "metadata": {
    "id": "B51LcWXhlXjw"
   },
   "source": [
    "The task and reward structure are described in the [documentation](https://github.com/openai/gym/blob/a5a6ae6bc0a5cfc0ff1ce9be723d59593c165022/gym/envs/toy_text/taxi.py#L25)"
   ]
  },
  {
   "cell_type": "code",
   "execution_count": 5,
   "metadata": {
    "colab": {
     "base_uri": "https://localhost:8080/"
    },
    "executionInfo": {
     "elapsed": 1180,
     "status": "ok",
     "timestamp": 1620376086099,
     "user": {
      "displayName": "LevikeB",
      "photoUrl": "",
      "userId": "02205040832277558440"
     },
     "user_tz": -60
    },
    "id": "7vOnc_8QlXjw",
    "outputId": "04fd97f9-9338-423e-b3e1-91df000a6fac"
   },
   "outputs": [
    {
     "name": "stdout",
     "output_type": "stream",
     "text": [
      "+---------+\n",
      "|\u001b[35mR\u001b[0m: | : :G|\n",
      "| : | : : |\n",
      "| : : : : |\n",
      "| | : | : |\n",
      "|\u001b[43mY\u001b[0m| : |\u001b[34;1mB\u001b[0m: |\n",
      "+---------+\n",
      "\n"
     ]
    }
   ],
   "source": [
    "taxi.reset()\n",
    "taxi.render()"
   ]
  },
  {
   "cell_type": "code",
   "execution_count": null,
   "metadata": {
    "id": "3h25EDaLmijl"
   },
   "outputs": [],
   "source": []
  },
  {
   "cell_type": "markdown",
   "metadata": {
    "id": "TCijvmZXm2SP"
   },
   "source": [
    "#1. Describe the methods and variables in the class DiscreteEnv which is the parent class of the Taxi V3 class.\n",
    "\n",
    "##def \\_\\_init__(self, nS, nA, P, isd):\n",
    "Init method for the DiscreteEnv class. Inputs as in the description:\n",
    "    - nS: number of states\n",
    "    - nA: number of actions\n",
    "    - P: transitions (*)\n",
    "    - isd: initial state distribution (**)\n",
    "    (*) dictionary of lists, where\n",
    "      P[s][a] == [(probability, nextstate, reward, done), ...]\n",
    "    (**) list or array of length nS\n",
    "\n",
    "\n",
    "##def seed(self, seed=None):\n",
    "Sets the seeds for the random function. If seed is None system time is used as seed, but if you want to be deterministic (getting the same result, but still provide randomness) you neeed to set the seed a positive number.\n",
    "It return returns the seed in case you used None\n",
    "\n",
    "##def reset(self):\n",
    "Resets the class state. The class state will be a random and is based on initial state distribution.\n",
    "\n",
    "##def step(self, a):\n",
    "This function is used to step. a- is the action for the step. I would call it instruction.\n",
    "returns (int(s), r, d, {\"prob\": p}). where s is state r is reward, d is done indicator and prbability. \n",
    "\n",
    "#2. Describe the methods and variables in the Taxi V3 class.\n",
    "\n",
    "##def \\_\\_init__(self):\n",
    "Init for the Taxi environment. A lot of things are happening here:\n",
    "1. save map\n",
    "2. locate walls\n",
    "3. limits for the map\n",
    "4. Most import of all it set the list with: probability, reward, new state and done indicator for the each state and action combo. This is needed for DiscreteEnv\n",
    "\n",
    "##def encode(self, taxi_row, taxi_col, pass_loc, dest_idx):\n",
    "Encodes the taxi, passenger and destination location into an intiger. (working with bit fields a lot as a Embedded SW engineer this makes me unconftable because we only multipy with multiples of two)\n",
    "\n",
    "##def decode(self, i):\n",
    "Revers of the encode. It gets an iniger and retunrs a list containing taxi_row, taxi_col, pass_loc, dest_idx.\n",
    "\n",
    "##def render(self, mode='human'):\n",
    "Renders the ouput state of the environment. If mode is human it displays in the standard ouptu otherwise a memory file like object is created and return (This could be used to send the state to another program. I guess)\n",
    "Yellow is the taxi location, passenger location is blu, magneta is the destination and green notates if the passenger is in the taxi. (annoying for me that the locations are red green and bule.) \n",
    "\n",
    "\n",
    "#3. Describe the Taxi V3 environment, its actions, states, reward structure and the rationale behind such a reward structure\n",
    "\n",
    "\n",
    "There is a mapping of state and action. The mapping contains the propabilite new state, reward and done indicatore. The reason behnd this is to give rules to the environment: where you can go and waht rewads you will get. I am not very good at explaining. Sorry.\n",
    "\n",
    "\n",
    "#4. Train an algorithm to achieve a 100-episode average reward with a 5th percentile of 7.2 or higher and a 95th percentile of 8.2 or higher on the last 1000 episodes.\n",
    "\n",
    "I will use SARSA (State-Action-Reward-State-Action) because I am more familiar with this."
   ]
  },
  {
   "cell_type": "code",
   "execution_count": 250,
   "metadata": {
    "colab": {
     "base_uri": "https://localhost:8080/",
     "height": 574
    },
    "executionInfo": {
     "elapsed": 5014,
     "status": "ok",
     "timestamp": 1620385972772,
     "user": {
      "displayName": "LevikeB",
      "photoUrl": "",
      "userId": "02205040832277558440"
     },
     "user_tz": -60
    },
    "id": "VCyQ_nvxmwd-",
    "outputId": "241cbd1d-4d06-4ec1-9011-8f5f8db8713b"
   },
   "outputs": [
    {
     "name": "stdout",
     "output_type": "stream",
     "text": [
      "Avarage reward for the last 100 episoded 8.09\n",
      "Avarage penaltiesl for the last 100 episodes 0.0\n"
     ]
    },
    {
     "data": {
      "image/png": "[encoded data removed]",
      "text/plain": [
       "<Figure size 432x288 with 1 Axes>"
      ]
     },
     "metadata": {
      "needs_background": "light",
      "tags": []
     },
     "output_type": "display_data"
    },
    {
     "data": {
      "image/png": "[encoded data removed]",
      "text/plain": [
       "<Figure size 432x288 with 1 Axes>"
      ]
     },
     "metadata": {
      "needs_background": "light",
      "tags": []
     },
     "output_type": "display_data"
    }
   ],
   "source": [
    "import random\n",
    "import numpy as np\n",
    "from pprint import pprint\n",
    "from collections import defaultdict\n",
    "from collections import deque\n",
    "import matplotlib.pyplot as plt\n",
    "\n",
    "\n",
    "#print(list(taxi.decode(state)), \"taxi_row, taxi_col, pass_loc, dest_idx\")\n",
    "#pprint(taxi.P)\n",
    "\n",
    "\n",
    "Q  = defaultdict(lambda: np.zeros(nr_action))\n",
    "\n",
    "\n",
    "def epsilon_greedy_action(Q, state, epsilon):\n",
    "    r = random.random()\n",
    "    if r > epsilon:\n",
    "        # greedy action\n",
    "        return np.argmax(Q[state])\n",
    "    else:\n",
    "        random_action = random.randint(0, 5) \n",
    "        # just return the random action \n",
    "        return random_action\n",
    "\n",
    "\n",
    "def trainig_uber_driver(Q, taxi, n_episodes, parameters):# epsilon=1, epsilon_decay=0.1, min_epsilon=0.1, alpha=0.1, gamma=1):\n",
    "    # get values \n",
    "    epsilon = parameters[\"epsilon\"]\n",
    "    epsilon_decay = parameters[\"epsilon_decay\"]\n",
    "    min_epsilon = parameters[\"min_epsilon\"]\n",
    "    alpha = parameters[\"alpha\"]\n",
    "    gamma = parameters[\"gamma\"]\n",
    "    #print(n_episodes, epsilon, epsilon_decay, min_epsilon, alpha, gamma)\n",
    "    nr_action=taxi.action_space.n\n",
    "\n",
    "    all_rewards = []\n",
    "    penalties_all_episodes = []\n",
    "    for i_episode in range(1, n_episodes+1):\n",
    "        state = taxi.reset()\n",
    "        cum_reward = 0\n",
    "        cum_penalty = 0\n",
    "        while True:\n",
    "            # agent selects an action\n",
    "            action = epsilon_greedy_action(Q, state, epsilon)\n",
    "            # agent performs the selected action\n",
    "            next_state, reward, done, _ = taxi.step(action)\n",
    "            \n",
    "            if not done:\n",
    "                Q[state][action] += alpha * (\n",
    "                            reward + gamma * np.max(Q[next_state]) - Q[state][action])\n",
    "            else:\n",
    "                Q[state][action] += alpha * (reward - Q[state][action])\n",
    "                epsilon = epsilon * epsilon_decay\n",
    "                if min_epsilon is not None:\n",
    "                    epsilon = max(epsilon, min_epsilon)\n",
    "            # update the sampled reward\n",
    "            cum_reward += reward\n",
    "            if reward<-1:\n",
    "                cum_penalty += 1\n",
    "            #print (list(taxi.decode(next_state)), reward, done, cum_reward)\n",
    "            # update the state (s <- s') to next time step\n",
    "            state = next_state\n",
    "            if done:\n",
    "                # save final sampled reward\n",
    "                all_rewards.append(cum_reward)\n",
    "                penalties_all_episodes.append(cum_penalty)\n",
    "                break\n",
    "    #update parameters\n",
    "    parameters[\"epsilon\"] = epsilon\n",
    "    parameters[\"epsilon_decay\"] =epsilon_decay\n",
    "    parameters[\"min_epsilon\"] = min_epsilon\n",
    "    parameters[\"alpha\"] = alpha\n",
    "    parameters[\"gamma\"] = gamma\n",
    "    return (all_rewards, penalties_all_episodes)\n",
    "\n",
    "parameters = {\n",
    "    \"epsilon\":1,#1,\n",
    "    \"epsilon_decay\":0.0001,#0.2,#0.9,\n",
    "    \"min_epsilon\":0.0,#0.1,\n",
    "    \"alpha\":0.8,#0.4,0.01,\n",
    "    \"gamma\":1#1\n",
    "}\n",
    "\n",
    "(all_rewards, penalties_all_episodes) = trainig_uber_driver(Q, taxi, 10000, parameters)\n",
    "print(\"Avarage reward for the last 100 episoded\", np.mean(all_rewards[-100:]))\n",
    "print(\"Avarage penaltiesl for the last 100 episodes\", np.mean(penalties_all_episodes[-100:]))\n",
    "\n",
    "plt.plot(all_rewards)\n",
    "plt.ylabel('reward')\n",
    "plt.xlabel('episode')\n",
    "plt.show()\n",
    "plt.plot(penalties_all_episodes)\n",
    "plt.ylabel('penalties')\n",
    "plt.xlabel('episode')\n",
    "plt.show()"
   ]
  },
  {
   "cell_type": "markdown",
   "metadata": {
    "id": "3njdG_trSpyE"
   },
   "source": [
    "#5. The algorithm should be able to perform pick-ups and dropoffs with zero penalties over 1000 episodes.\n",
    "Okay so let's run 1000 more episodes to see the worst."
   ]
  },
  {
   "cell_type": "code",
   "execution_count": 253,
   "metadata": {
    "colab": {
     "base_uri": "https://localhost:8080/"
    },
    "executionInfo": {
     "elapsed": 1146,
     "status": "ok",
     "timestamp": 1620385983519,
     "user": {
      "displayName": "LevikeB",
      "photoUrl": "",
      "userId": "02205040832277558440"
     },
     "user_tz": -60
    },
    "id": "M_WNYgsbIyVZ",
    "outputId": "98d0098d-3845-4462-f634-b77230281fc2"
   },
   "outputs": [
    {
     "name": "stdout",
     "output_type": "stream",
     "text": [
      "run another 1000 epsodes\n",
      "Quantile 5%% and 95%% [ 8. 15.]\n",
      "Worst 5% of epsiode has an avg of 10.0 which is higer than 7.2 \n",
      "Best 95% of epsiode has an avg of 8.857286432160803 which is higer than 8.2 \n"
     ]
    }
   ],
   "source": [
    "print(\"run another 1000 epsodes\")\n",
    "\n",
    "\n",
    "(all_rewards, penalties_all_episodes) = trainig_uber_driver(Q, taxi, 1000, parameters)\n",
    "\n",
    "print(\"Quantile 5%% and 95%%\",np.quantile(all_rewards, [ 0.5, 1]))\n",
    "\n",
    "avg_100_ep_reward = []\n",
    "for i in range(1000-100):\n",
    "    avg_100_ep_reward.append( np.mean(all_rewards[i:i+100]))\n",
    "avg_100_ep_reward = sorted(avg_100_ep_reward)\n",
    "print(\"Worst 5%% of epsiode has an avg of %s which is higer than 7.2 \"%(np.mean(all_rewards[:5])))\n",
    "print(\"Best 95%% of epsiode has an avg of %s which is higer than 8.2 \"%(np.mean(all_rewards[5:])))\n"
   ]
  },
  {
   "cell_type": "markdown",
   "metadata": {
    "id": "o9WhdiXpxafD"
   },
   "source": [
    "#6. Document your solution including all hyper parameters and how those hyperparameters were selected.\n",
    "\n",
    "1. epsilon - chances to take the greedy action \n",
    "2. epsilon_decay - how much the epsilon decays after an episode.\n",
    "3. min_epsilon - minumum epsilon\n",
    "4. alpha - The accumulated returns is not always linear. Decrease the effect by setting this lower than one.\n",
    "5. gamma- This is used to implement the discounted returns.\n",
    "\n"
   ]
  },
  {
   "cell_type": "markdown",
   "metadata": {
    "id": "E_QXYVYvlXjx"
   },
   "source": [
    "## Submission\n",
    "- Submit your solution as a Jupyter notebook. \n",
    "- Ensure that all cells in the notebook have been executed and the output is showing\n",
    "- Ensure that your solution consistently reaches the average cumulative reward defined in the rubric (link below)\n",
    "- Post your solution on Github and share the link to your commit as a direct message in Slack"
   ]
  },
  {
   "cell_type": "markdown",
   "metadata": {
    "id": "Onhshgd2lXjx"
   },
   "source": [
    "## Evaluation\n",
    "The goal of the project is to get a certain average (cumulative) reward over 100 episodes. To pass the project, you must meet all the requirments in the project [rubric](https://github.com/KnowchowHQ/rl-in-action/blob/master/C1-RL-Intro/W3OH/P1-rubric.md)"
   ]
  }
 ],
 "metadata": {
  "colab": {
   "collapsed_sections": [],
   "name": "Copy of P1.ipynb",
   "provenance": [
    {
     "file_id": "https://github.com/KnowchowHQ/rl-in-action/blob/master/C1-RL-Intro/W3OH/P1.ipynb",
     "timestamp": 1620336566267
    }
   ]
  },
  "kernelspec": {
   "display_name": "Python 3",
   "language": "python",
   "name": "python3"
  },
  "language_info": {
   "codemirror_mode": {
    "name": "ipython",
    "version": 3
   },
   "file_extension": ".py",
   "mimetype": "text/x-python",
   "name": "python",
   "nbconvert_exporter": "python",
   "pygments_lexer": "ipython3",
   "version": "3.6.7rc2"
  }
 },
 "nbformat": 4,
 "nbformat_minor": 1
}
